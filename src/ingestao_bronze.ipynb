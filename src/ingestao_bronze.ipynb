{
 "cells": [
  {
   "cell_type": "code",
   "execution_count": 0,
   "metadata": {
    "application/vnd.databricks.v1+cell": {
     "cellMetadata": {},
     "inputWidgets": {},
     "nuid": "9ace6a99-fc68-4042-82fd-06373b63fd4f",
     "showTitle": false,
     "tableResultSettingsMap": {},
     "title": ""
    }
   },
   "outputs": [],
   "source": [
    "from pyspark.sql import SparkSession\n",
    "\n",
    "spark = SparkSession.builder.appName(\"Ingestão Bronze\").getOrCreate()\n"
   ]
  },
  {
   "cell_type": "code",
   "execution_count": 0,
   "metadata": {
    "application/vnd.databricks.v1+cell": {
     "cellMetadata": {},
     "inputWidgets": {},
     "nuid": "a917b33f-b333-414a-bec1-25a31b4b3907",
     "showTitle": false,
     "tableResultSettingsMap": {},
     "title": ""
    }
   },
   "outputs": [],
   "source": [
    "def ingestao_bronze(files):\n",
    "    spark.sql(f\"CREATE SCHEMA IF NOT EXISTS bronze.delivery_center\")\n",
    "    list_results = []\n",
    "    for key, file in files.items():\n",
    "        df = spark.read.csv(file, header=True, inferSchema=True)\n",
    "        df.write.format(\"delta\").mode(\"overwrite\").saveAsTable(f\"bronze.delivery_center.{key}\")\n",
    "        list_results.append(f\"Tabela {key} criada.\")\n",
    "\n",
    "    return list_results\n"
   ]
  },
  {
   "cell_type": "code",
   "execution_count": 0,
   "metadata": {
    "application/vnd.databricks.v1+cell": {
     "cellMetadata": {
      "byteLimit": 2048000,
      "rowLimit": 10000
     },
     "inputWidgets": {},
     "nuid": "baadee64-dd40-48a5-bb67-83e58cc52846",
     "showTitle": false,
     "tableResultSettingsMap": {},
     "title": ""
    }
   },
   "outputs": [],
   "source": [
    "files = {\n",
    "    \"channels\": \"/Volumes/raw/delivery_center/data/channels.csv\",\n",
    "    \"deliveries\": \"/Volumes/raw/delivery_center/data/deliveries.csv\",\n",
    "    \"drivers\": \"/Volumes/raw/delivery_center/data/drivers.csv\",\n",
    "    \"hubs\": \"/Volumes/raw/delivery_center/data/hubs.csv\",\n",
    "    \"orders\": \"/Volumes/raw/delivery_center/data/orders.csv\",\n",
    "    \"payments\": \"/Volumes/raw/delivery_center/data/payments.csv\",\n",
    "    \"stores\": \"/Volumes/raw/delivery_center/data/stores.csv\"\n",
    "}\n",
    "\n",
    "retorno_ingestao = ingestao_bronze(files)\n",
    "for retorno in retorno_ingestao:\n",
    "    print(retorno)"
   ]
  },
  {
   "cell_type": "code",
   "execution_count": 0,
   "metadata": {
    "application/vnd.databricks.v1+cell": {
     "cellMetadata": {},
     "inputWidgets": {},
     "nuid": "8417691e-2322-4687-8374-d3ed4e8e89d5",
     "showTitle": false,
     "tableResultSettingsMap": {},
     "title": ""
    }
   },
   "outputs": [],
   "source": []
  }
 ],
 "metadata": {
  "application/vnd.databricks.v1+notebook": {
   "computePreferences": null,
   "dashboards": [],
   "environmentMetadata": {
    "base_environment": "",
    "environment_version": "2"
   },
   "inputWidgetPreferences": null,
   "language": "python",
   "notebookMetadata": {
    "pythonIndentUnit": 4
   },
   "notebookName": "ingestao_bronze",
   "widgets": {}
  },
  "language_info": {
   "name": "python"
  }
 },
 "nbformat": 4,
 "nbformat_minor": 0
}
