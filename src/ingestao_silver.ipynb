{
 "cells": [
  {
   "cell_type": "code",
   "execution_count": 0,
   "metadata": {
    "application/vnd.databricks.v1+cell": {
     "cellMetadata": {
      "byteLimit": 2048000,
      "rowLimit": 10000
     },
     "inputWidgets": {},
     "nuid": "7693775b-8827-491f-8d7b-0b385281e131",
     "showTitle": false,
     "tableResultSettingsMap": {},
     "title": ""
    }
   },
   "outputs": [],
   "source": [
    "from pyspark.sql import SparkSession\n",
    "from pyspark.sql.types import StructType, StructField, IntegerType, StringType, FloatType, DecimalType, TimestampType\n",
    "\n",
    "spark = SparkSession.builder.appName(\"Transformação e Ingestão Silver\").getOrCreate()"
   ]
  },
  {
   "cell_type": "code",
   "execution_count": 0,
   "metadata": {
    "application/vnd.databricks.v1+cell": {
     "cellMetadata": {
      "byteLimit": 2048000,
      "rowLimit": 10000
     },
     "inputWidgets": {},
     "nuid": "97cee9bd-efea-4944-8934-1c1ec4008c3e",
     "showTitle": false,
     "tableResultSettingsMap": {},
     "title": ""
    }
   },
   "outputs": [],
   "source": [
    "def ingestao_silver(df, table):\n",
    "\n",
    "    spark.sql(f\"CREATE SCHEMA IF NOT EXISTS silver.delivery_center\")\n",
    "    \n",
    "    df_silver = df.write.format(\"delta\").mode(\"overwrite\").saveAsTable(f\"silver.delivery_center.{table}\")\n",
    "\n",
    "    return f\"Tabela {table} criada na silver.\""
   ]
  },
  {
   "cell_type": "code",
   "execution_count": 0,
   "metadata": {
    "application/vnd.databricks.v1+cell": {
     "cellMetadata": {
      "byteLimit": 2048000,
      "rowLimit": 10000
     },
     "inputWidgets": {},
     "nuid": "c23ff4a7-2687-40ad-932e-bae1ff8c5b37",
     "showTitle": false,
     "tableResultSettingsMap": {},
     "title": ""
    }
   },
   "outputs": [],
   "source": [
    "def renamed_columns(df):\n",
    "    df = (\n",
    "        df\n",
    "        # channels\n",
    "        .withColumnRenamed(\"channel_id\", \"id_canal\") \n",
    "        .withColumnRenamed(\"channel_name\", \"nome_canal\")\n",
    "        .withColumnRenamed(\"channel_type\", \"tipo_canal\")\n",
    "        # deliveries\n",
    "        .withColumnRenamed(\"delivery_id\", \"id_entrega\")\n",
    "        .withColumnRenamed(\"delivery_order_id\", \"id_pedido_entrega\")\n",
    "        .withColumnRenamed(\"driver_id\", \"id_entregador\")\n",
    "        .withColumnRenamed(\"delivery_distance_meters\", \"distancia_entrega_metros\")\n",
    "        .withColumnRenamed(\"delivery_status\", \"status_entrega\")\n",
    "        # drivers\n",
    "        .withColumnRenamed(\"driver_id\", \"id_entregador\")\n",
    "        .withColumnRenamed(\"driver_modal\", \"modalidade_entregador\")\n",
    "        .withColumnRenamed(\"driver_type\", \"tipo_entregador\")\n",
    "        # hubs\n",
    "        .withColumnRenamed(\"hub_id\", \"id_centro\")\n",
    "        .withColumnRenamed(\"hub_name\", \"nome_centro\")\n",
    "        .withColumnRenamed(\"hub_city\", \"cidade_centro\")\n",
    "        .withColumnRenamed(\"hub_state\", \"estado_centro\")\n",
    "        .withColumnRenamed(\"hub_latitude\", \"latitude_centro\")\n",
    "        .withColumnRenamed(\"hub_longitude\", \"longitude_centro\")\n",
    "        # orders\n",
    "        .withColumnRenamed(\"order_id\", \"id_pedido\")\n",
    "        .withColumnRenamed(\"store_id\", \"id_loja\")\n",
    "        .withColumnRenamed(\"channel_id\", \"id_canal\")\n",
    "        .withColumnRenamed(\"payment_order_id\", \"id_pagamento_pedido\")\n",
    "        .withColumnRenamed(\"delivery_order_id\", \"id_entrega_pedido\")\n",
    "        .withColumnRenamed(\"order_status\", \"status_pedido\")\n",
    "        .withColumnRenamed(\"order_amount\", \"valor_pedido\")\n",
    "        .withColumnRenamed(\"order_delivery_fee\", \"taxa_entrega\")\n",
    "        .withColumnRenamed(\"order_delivery_cost\", \"custo_entrega\")\n",
    "        .withColumnRenamed(\"order_created_hour\", \"hora_criacao_pedido\")\n",
    "        # payments\n",
    "        .withColumnRenamed(\"payment_id\", \"id_pagamento\")\n",
    "        .withColumnRenamed(\"payment_order_id\", \"id_pedido_pagamento\")\n",
    "        .withColumnRenamed(\"payment_amount\", \"valor_pagamento\")\n",
    "        .withColumnRenamed(\"payment_fee\", \"taxa_pagamento\")\n",
    "        .withColumnRenamed(\"payment_method\", \"metodo_pagamento\")\n",
    "        .withColumnRenamed(\"payment_status\", \"status_pagamento\")\n",
    "        # stores\n",
    "        .withColumnRenamed(\"store_id\", \"id_loja\")\n",
    "        .withColumnRenamed(\"hub_id\", \"id_centro\")\n",
    "        .withColumnRenamed(\"store_segment\", \"segmento_loja\")\n",
    "        .withColumnRenamed(\"store_name\", \"nome_loja\")\n",
    "        .withColumnRenamed(\"store_plan_price\", \"preco_plano_loja\")\n",
    "        .withColumnRenamed(\"store_latitude\", \"latitude_loja\")\n",
    "        .withColumnRenamed(\"store_longitude\", \"longitude_loja\")\n",
    "    )\n",
    "\n",
    "    return df"
   ]
  },
  {
   "cell_type": "code",
   "execution_count": 0,
   "metadata": {
    "application/vnd.databricks.v1+cell": {
     "cellMetadata": {
      "byteLimit": 2048000,
      "rowLimit": 10000
     },
     "inputWidgets": {},
     "nuid": "d122f1cd-b5f5-4eed-b001-c4000b569380",
     "showTitle": false,
     "tableResultSettingsMap": {},
     "title": ""
    }
   },
   "outputs": [],
   "source": [
    "schema_dict = {\n",
    "    \"channels\": StructType([\n",
    "        StructField(\"channel_id\", IntegerType(), False),\n",
    "        StructField(\"channel_name\", StringType(), True),\n",
    "        StructField(\"channel_type\", StringType(), True)\n",
    "    ]),\n",
    "    \"deliveries\": StructType([\n",
    "        StructField(\"delivery_id\", IntegerType(), False),\n",
    "        StructField(\"delivery_order_id\", IntegerType(), False),\n",
    "        StructField(\"driver_id\", IntegerType(), True),\n",
    "        StructField(\"delivery_distance_meters\", FloatType(), True),\n",
    "        StructField(\"delivery_status\", StringType(), True)\n",
    "    ]),\n",
    "    \"drivers\": StructType([\n",
    "        StructField(\"driver_id\", IntegerType(), False),\n",
    "        StructField(\"driver_modal\", StringType(), True),\n",
    "        StructField(\"driver_type\", StringType(), True)\n",
    "    ]),\n",
    "    \"hubs\": StructType([\n",
    "        StructField(\"hub_id\", IntegerType(), False),\n",
    "        StructField(\"hub_city\", StringType(), True),\n",
    "        StructField(\"hub_state\", StringType(), True),\n",
    "        StructField(\"hub_latitude\", DecimalType(15,0), True),\n",
    "        StructField(\"hub_longitude\", DecimalType(15,0), True)\n",
    "    ]),\n",
    "    \"orders\": StructType([\n",
    "        StructField(\"order_id\", IntegerType(), False),\n",
    "        StructField(\"store_id\", IntegerType(), False),\n",
    "        StructField(\"channel_id\", IntegerType(), False),\n",
    "        StructField(\"payment_order_id\", IntegerType(), False),\n",
    "        StructField(\"delivery_order_id\", IntegerType(), False),\n",
    "        StructField(\"order_status\", StringType(), True),\n",
    "        StructField(\"order_amount\", FloatType(), True),\n",
    "        StructField(\"order_delivery_fee\", FloatType(), True),\n",
    "        StructField(\"order_delivery_cost\", FloatType(), True),\n",
    "        StructField(\"order_created_hour\", TimestampType(), True)\n",
    "    ]),\n",
    "    \"payments\": StructType([\n",
    "        StructField(\"payment_id\", IntegerType(), False),\n",
    "        StructField(\"payment_order_id\", IntegerType(), False),\n",
    "        StructField(\"paymet_amount\", FloatType(), True),\n",
    "        StructField(\"payment_fee\", FloatType(), True),\n",
    "        StructField(\"payment_method\", StringType(), True),\n",
    "        StructField(\"payment_status\", StringType(), True)\n",
    "    ]),\n",
    "    \"stores\": StructType([\n",
    "        StructField(\"store_id\", IntegerType(), False),\n",
    "        StructField(\"hub_id\", IntegerType(), False),\n",
    "        StructField(\"store_name\", StringType(), True),\n",
    "        StructField(\"store_segment\", StringType(), True),\n",
    "        StructField(\"store_plan_price\", FloatType(), True),\n",
    "        StructField(\"store_latitude\", DecimalType(15,0), True),\n",
    "        StructField(\"store_longitude\", DecimalType(15,0), True)\n",
    "    ])\n",
    "}\n",
    "\n",
    "tables = [\"channels\", \"deliveries\", \"drivers\", \"hubs\", \"orders\", \"payments\", \"stores\"]\n",
    "\n",
    "for table in tables:\n",
    "    df_bronze = spark.read.schema(schema_dict[table]).table(f\"bronze.delivery_center.{table}\")\n",
    "    \n",
    "    new_table = []\n",
    "    if table == \"channels\":\n",
    "        new_table.append(\"canais\")\n",
    "        df_bronze = df_bronze.select(\"channel_id\", \"channel_name\", \"channel_type\")\n",
    "    elif table == \"deliveries\":\n",
    "        new_table.append(\"entregas\")\n",
    "        df_bronze = df_bronze.select(\"delivery_id\", \"delivery_order_id\", \"driver_id\", \"delivery_distance_meters\", \"delivery_status\")\n",
    "    elif table == \"drivers\":\n",
    "        new_table.append(\"entregadores\")\n",
    "        df_bronze = df_bronze.select(\"driver_id\", \"driver_modal\", \"driver_type\")\n",
    "    elif table == \"hubs\":\n",
    "        new_table.append(\"centros\")\n",
    "        df_bronze = df_bronze.select(\"hub_id\", \"hub_name\", \"hub_city\", \"hub_state\", \"hub_latitude\", \"hub_longitude\")\n",
    "    elif table == \"orders\":\n",
    "        new_table.append(\"pedidos\")\n",
    "        df_bronze = df_bronze.select(\"order_id\", \"store_id\", \"channel_id\", \"payment_order_id\", \"delivery_order_id\", \"order_status\", \"order_amount\", \"order_delivery_fee\", \"order_delivery_cost\", \"order_created_hour\")\n",
    "    elif table == \"payments\":\n",
    "        new_table.append(\"pagamentos\")\n",
    "        df_bronze = df_bronze.select(\"payment_id\", \"payment_order_id\", \"payment_amount\", \"payment_fee\", \"payment_method\", \"payment_status\")\n",
    "    elif table == \"stores\":\n",
    "        new_table.append(\"lojas\")\n",
    "        df_bronze = df_bronze.select(\"store_id\", \"hub_id\", \"store_segment\", \"store_name\", \"store_plan_price\", \"store_latitude\", \"store_longitude\")\n",
    "\n",
    "    df_silver = renamed_columns(df_bronze)\n",
    "\n",
    "    for tabela in new_table:\n",
    "        ingestao = ingestao_silver(df_silver, tabela)\n",
    "        print(ingestao)"
   ]
  }
 ],
 "metadata": {
  "application/vnd.databricks.v1+notebook": {
   "computePreferences": null,
   "dashboards": [],
   "environmentMetadata": {
    "base_environment": "",
    "environment_version": "2"
   },
   "inputWidgetPreferences": null,
   "language": "python",
   "notebookMetadata": {
    "pythonIndentUnit": 4
   },
   "notebookName": "ingestao_silver",
   "widgets": {}
  },
  "language_info": {
   "name": "python"
  }
 },
 "nbformat": 4,
 "nbformat_minor": 0
}
